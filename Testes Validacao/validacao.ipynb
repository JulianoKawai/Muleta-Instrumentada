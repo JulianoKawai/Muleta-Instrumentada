{
 "cells": [
  {
   "cell_type": "code",
   "execution_count": 1,
   "metadata": {},
   "outputs": [
    {
     "data": {
      "image/png": "[encoded data removed]",
      "text/plain": [
       "<Figure size 432x288 with 1 Axes>"
      ]
     },
     "metadata": {
      "needs_background": "light"
     },
     "output_type": "display_data"
    }
   ],
   "source": [
    "import pandas as pd\n",
    "import matplotlib.pyplot as plt\n",
    "\n",
    "df_muleta = pd.read_csv('teste_y_0.csv')\n",
    "\n",
    "df_muleta.plot()\n",
    "\n",
    "plt.show()"
   ]
  },
  {
   "cell_type": "code",
   "execution_count": 2,
   "metadata": {},
   "outputs": [
    {
     "data": {
      "text/html": [
       "<div>\n",
       "<style scoped>\n",
       "    .dataframe tbody tr th:only-of-type {\n",
       "        vertical-align: middle;\n",
       "    }\n",
       "\n",
       "    .dataframe tbody tr th {\n",
       "        vertical-align: top;\n",
       "    }\n",
       "\n",
       "    .dataframe thead th {\n",
       "        text-align: right;\n",
       "    }\n",
       "</style>\n",
       "<table border=\"1\" class=\"dataframe\">\n",
       "  <thead>\n",
       "    <tr style=\"text-align: right;\">\n",
       "      <th></th>\n",
       "      <th>FX</th>\n",
       "      <th>FY</th>\n",
       "      <th>FZ</th>\n",
       "      <th>Yaw</th>\n",
       "      <th>Pitch</th>\n",
       "      <th>Roll</th>\n",
       "    </tr>\n",
       "  </thead>\n",
       "  <tbody>\n",
       "    <tr>\n",
       "      <th>0</th>\n",
       "      <td>-0.272503</td>\n",
       "      <td>0.184817</td>\n",
       "      <td>0.190396</td>\n",
       "      <td>0.317820</td>\n",
       "      <td>-0.256074</td>\n",
       "      <td>0.057165</td>\n",
       "    </tr>\n",
       "    <tr>\n",
       "      <th>1</th>\n",
       "      <td>-0.272503</td>\n",
       "      <td>0.184817</td>\n",
       "      <td>0.190396</td>\n",
       "      <td>0.318785</td>\n",
       "      <td>-0.256388</td>\n",
       "      <td>0.056485</td>\n",
       "    </tr>\n",
       "    <tr>\n",
       "      <th>2</th>\n",
       "      <td>-0.333730</td>\n",
       "      <td>0.170113</td>\n",
       "      <td>0.245643</td>\n",
       "      <td>0.322857</td>\n",
       "      <td>-0.256276</td>\n",
       "      <td>0.055223</td>\n",
       "    </tr>\n",
       "    <tr>\n",
       "      <th>3</th>\n",
       "      <td>-0.333730</td>\n",
       "      <td>0.170113</td>\n",
       "      <td>0.245643</td>\n",
       "      <td>0.324718</td>\n",
       "      <td>-0.256424</td>\n",
       "      <td>0.054836</td>\n",
       "    </tr>\n",
       "    <tr>\n",
       "      <th>4</th>\n",
       "      <td>-0.333730</td>\n",
       "      <td>0.170113</td>\n",
       "      <td>0.245643</td>\n",
       "      <td>0.325817</td>\n",
       "      <td>-0.256655</td>\n",
       "      <td>0.055182</td>\n",
       "    </tr>\n",
       "    <tr>\n",
       "      <th>...</th>\n",
       "      <td>...</td>\n",
       "      <td>...</td>\n",
       "      <td>...</td>\n",
       "      <td>...</td>\n",
       "      <td>...</td>\n",
       "      <td>...</td>\n",
       "    </tr>\n",
       "    <tr>\n",
       "      <th>1459</th>\n",
       "      <td>0.369548</td>\n",
       "      <td>0.497248</td>\n",
       "      <td>-2.327486</td>\n",
       "      <td>0.556409</td>\n",
       "      <td>-0.332312</td>\n",
       "      <td>0.059118</td>\n",
       "    </tr>\n",
       "    <tr>\n",
       "      <th>1460</th>\n",
       "      <td>0.369548</td>\n",
       "      <td>0.497248</td>\n",
       "      <td>-2.327486</td>\n",
       "      <td>0.561862</td>\n",
       "      <td>-0.327735</td>\n",
       "      <td>0.061437</td>\n",
       "    </tr>\n",
       "    <tr>\n",
       "      <th>1461</th>\n",
       "      <td>0.277800</td>\n",
       "      <td>0.487498</td>\n",
       "      <td>-2.358831</td>\n",
       "      <td>0.560717</td>\n",
       "      <td>-0.327363</td>\n",
       "      <td>0.061308</td>\n",
       "    </tr>\n",
       "    <tr>\n",
       "      <th>1462</th>\n",
       "      <td>0.277800</td>\n",
       "      <td>0.487498</td>\n",
       "      <td>-2.358831</td>\n",
       "      <td>0.563677</td>\n",
       "      <td>-0.329750</td>\n",
       "      <td>0.059871</td>\n",
       "    </tr>\n",
       "    <tr>\n",
       "      <th>1463</th>\n",
       "      <td>0.247278</td>\n",
       "      <td>0.469691</td>\n",
       "      <td>-2.374424</td>\n",
       "      <td>0.579913</td>\n",
       "      <td>-0.334424</td>\n",
       "      <td>0.056721</td>\n",
       "    </tr>\n",
       "  </tbody>\n",
       "</table>\n",
       "<p>1464 rows × 6 columns</p>\n",
       "</div>"
      ],
      "text/plain": [
       "            FX        FY        FZ       Yaw     Pitch      Roll\n",
       "0    -0.272503  0.184817  0.190396  0.317820 -0.256074  0.057165\n",
       "1    -0.272503  0.184817  0.190396  0.318785 -0.256388  0.056485\n",
       "2    -0.333730  0.170113  0.245643  0.322857 -0.256276  0.055223\n",
       "3    -0.333730  0.170113  0.245643  0.324718 -0.256424  0.054836\n",
       "4    -0.333730  0.170113  0.245643  0.325817 -0.256655  0.055182\n",
       "...        ...       ...       ...       ...       ...       ...\n",
       "1459  0.369548  0.497248 -2.327486  0.556409 -0.332312  0.059118\n",
       "1460  0.369548  0.497248 -2.327486  0.561862 -0.327735  0.061437\n",
       "1461  0.277800  0.487498 -2.358831  0.560717 -0.327363  0.061308\n",
       "1462  0.277800  0.487498 -2.358831  0.563677 -0.329750  0.059871\n",
       "1463  0.247278  0.469691 -2.374424  0.579913 -0.334424  0.056721\n",
       "\n",
       "[1464 rows x 6 columns]"
      ]
     },
     "execution_count": 2,
     "metadata": {},
     "output_type": "execute_result"
    }
   ],
   "source": [
    "df_muleta"
   ]
  },
  {
   "cell_type": "code",
   "execution_count": 15,
   "metadata": {},
   "outputs": [],
   "source": [
    "%matplotlib tk\n",
    "import pandas as pd\n",
    "import matplotlib.pyplot as plt\n",
    "\n",
    "df_plataforma = pd.read_csv('teste 1.csv', sep=';',decimal=',',skiprows=3)\n",
    "df_plataforma = df_plataforma.rolling(1000).mean()\n",
    "df_plataforma.dropna(inplace=True)\n",
    "#df_plataforma.plot()\n",
    "\n",
    "short = []\n",
    "num = len(df_muleta)\n",
    "passo = int(len(df_plataforma)/num)\n",
    "for i in range(num):\n",
    "    short.append(df_plataforma['V.2'][i*passo:(i+1)*passo].mean())\n",
    "df_short = pd.DataFrame(data=short,columns=['FZ']).dropna()\n",
    "df_short.plot()\n",
    "plt.show()"
   ]
  },
  {
   "cell_type": "code",
   "execution_count": 16,
   "metadata": {},
   "outputs": [
    {
     "data": {
      "text/html": [
       "<div>\n",
       "<style scoped>\n",
       "    .dataframe tbody tr th:only-of-type {\n",
       "        vertical-align: middle;\n",
       "    }\n",
       "\n",
       "    .dataframe tbody tr th {\n",
       "        vertical-align: top;\n",
       "    }\n",
       "\n",
       "    .dataframe thead th {\n",
       "        text-align: right;\n",
       "    }\n",
       "</style>\n",
       "<table border=\"1\" class=\"dataframe\">\n",
       "  <thead>\n",
       "    <tr style=\"text-align: right;\">\n",
       "      <th></th>\n",
       "      <th>FZ</th>\n",
       "    </tr>\n",
       "  </thead>\n",
       "  <tbody>\n",
       "    <tr>\n",
       "      <th>0</th>\n",
       "      <td>8.040960</td>\n",
       "    </tr>\n",
       "    <tr>\n",
       "      <th>1</th>\n",
       "      <td>8.442937</td>\n",
       "    </tr>\n",
       "    <tr>\n",
       "      <th>2</th>\n",
       "      <td>6.848889</td>\n",
       "    </tr>\n",
       "    <tr>\n",
       "      <th>3</th>\n",
       "      <td>7.223765</td>\n",
       "    </tr>\n",
       "    <tr>\n",
       "      <th>4</th>\n",
       "      <td>8.163228</td>\n",
       "    </tr>\n",
       "    <tr>\n",
       "      <th>...</th>\n",
       "      <td>...</td>\n",
       "    </tr>\n",
       "    <tr>\n",
       "      <th>1459</th>\n",
       "      <td>9.270049</td>\n",
       "    </tr>\n",
       "    <tr>\n",
       "      <th>1460</th>\n",
       "      <td>9.208191</td>\n",
       "    </tr>\n",
       "    <tr>\n",
       "      <th>1461</th>\n",
       "      <td>9.448915</td>\n",
       "    </tr>\n",
       "    <tr>\n",
       "      <th>1462</th>\n",
       "      <td>9.239685</td>\n",
       "    </tr>\n",
       "    <tr>\n",
       "      <th>1463</th>\n",
       "      <td>9.210348</td>\n",
       "    </tr>\n",
       "  </tbody>\n",
       "</table>\n",
       "<p>1464 rows × 1 columns</p>\n",
       "</div>"
      ],
      "text/plain": [
       "            FZ\n",
       "0     8.040960\n",
       "1     8.442937\n",
       "2     6.848889\n",
       "3     7.223765\n",
       "4     8.163228\n",
       "...        ...\n",
       "1459  9.270049\n",
       "1460  9.208191\n",
       "1461  9.448915\n",
       "1462  9.239685\n",
       "1463  9.210348\n",
       "\n",
       "[1464 rows x 1 columns]"
      ]
     },
     "execution_count": 16,
     "metadata": {},
     "output_type": "execute_result"
    }
   ],
   "source": [
    "df_short"
   ]
  },
  {
   "cell_type": "code",
   "execution_count": 5,
   "metadata": {},
   "outputs": [],
   "source": [
    "import numpy as np\n",
    "import pandas as pd\n",
    "#import streamlit as st\n",
    "import plotly.express as px\n",
    "from sklearn.metrics import r2_score\n",
    "from fastdtw import fastdtw\n",
    "from scipy.spatial.distance import euclidean\n",
    "\n",
    "x = np.array((df_muleta['FZ']).fillna(0))\n",
    "#y = np.array((df_plataforma['V.2']).fillna(0))\n",
    "y = np.array((df_short['FZ']).fillna(0))\n",
    "distance, path = fastdtw(x, y, dist=euclidean)"
   ]
  },
  {
   "cell_type": "code",
   "execution_count": 17,
   "metadata": {},
   "outputs": [
    {
     "data": {
      "text/plain": [
       "<AxesSubplot:>"
      ]
     },
     "execution_count": 17,
     "metadata": {},
     "output_type": "execute_result"
    }
   ],
   "source": [
    "from dtw import *\n",
    "\n",
    "x = np.array((df_muleta['FZ']).fillna(0))\n",
    "#y = np.array((df_plataforma['V.2']).fillna(0))\n",
    "y = np.array((df_short['FZ']).fillna(0))\n",
    "\n",
    "alignment = dtw(x,y,keep_internals=True)\n",
    "alignment.plot(type=\"threeway\")"
   ]
  },
  {
   "cell_type": "code",
   "execution_count": 26,
   "metadata": {},
   "outputs": [],
   "source": [
    "plt.plot(x, label = \"Muleta\")\n",
    "plt.plot(y[20:], label = \"Plataforma\")\n",
    "plt.legend()\n",
    "plt.show()"
   ]
  },
  {
   "cell_type": "code",
   "execution_count": 13,
   "metadata": {},
   "outputs": [
    {
     "name": "stdout",
     "output_type": "stream",
     "text": [
      "2788\n",
      "2788\n"
     ]
    }
   ],
   "source": [
    "print(alignment.index1)\n",
    "print(alignment.index2)"
   ]
  },
  {
   "cell_type": "code",
   "execution_count": 25,
   "metadata": {},
   "outputs": [],
   "source": [
    "result = []\n",
    "for i in range(0,len(path)):\n",
    "    result.append([\n",
    "    df_muleta['FZ'].iloc[path[i][0]],\n",
    "    df_short['FZ'].iloc[path[i][1]]])\n",
    "df_sync = pd.DataFrame(data=result,columns=['Fz Muleta','Fz Plataforma']).dropna()\n",
    "#df_sync = df_sync.drop_duplicates(subset=['DateTime'])\n",
    "#df_sync = df_sync.sort_values(by='DateTime')\n",
    "df_sync = df_sync.reset_index(drop=True)"
   ]
  },
  {
   "cell_type": "code",
   "execution_count": 33,
   "metadata": {},
   "outputs": [
    {
     "data": {
      "text/plain": [
       "<AxesSubplot:>"
      ]
     },
     "execution_count": 33,
     "metadata": {},
     "output_type": "execute_result"
    }
   ],
   "source": [
    "df_sync.plot()"
   ]
  },
  {
   "cell_type": "code",
   "execution_count": 30,
   "metadata": {},
   "outputs": [
    {
     "name": "stdout",
     "output_type": "stream",
     "text": [
      "1500\n",
      "1464\n",
      "2007\n",
      "2007\n"
     ]
    }
   ],
   "source": [
    "print(len(df_short))\n",
    "print(len(df_muleta))\n",
    "print(len(df_sync['Fz Muleta']))\n",
    "print(len(df_sync['Fz Plataforma']))"
   ]
  }
 ],
 "metadata": {
  "kernelspec": {
   "display_name": "Python 3.10.2 64-bit",
   "language": "python",
   "name": "python3"
  },
  "language_info": {
   "codemirror_mode": {
    "name": "ipython",
    "version": 3
   },
   "file_extension": ".py",
   "mimetype": "text/x-python",
   "name": "python",
   "nbconvert_exporter": "python",
   "pygments_lexer": "ipython3",
   "version": "3.10.2"
  },
  "orig_nbformat": 4,
  "vscode": {
   "interpreter": {
    "hash": "18ec32658ef92bbbbefc98c3c8471b646fe2ec18f116030ca69b0fc2fc383acb"
   }
  }
 },
 "nbformat": 4,
 "nbformat_minor": 2
}
