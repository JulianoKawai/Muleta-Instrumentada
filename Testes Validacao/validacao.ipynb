{
 "cells": [
  {
   "cell_type": "code",
   "execution_count": 177,
   "metadata": {},
   "outputs": [],
   "source": [
    "%matplotlib tk\n",
    "import pandas as pd\n",
    "import matplotlib.pyplot as plt\n",
    "import numpy as np \n",
    "\n",
    "df_muleta = pd.read_csv('teste_y_4.csv')\n",
    "offset = 0.5\n",
    "t = 0.04\n",
    "time_stamps = []\n",
    "for i in range(len(df_muleta)):\n",
    "    time_stamps.append(offset + i*t)\n",
    "\n",
    "df_muleta.insert(0,'Time',time_stamps)\n",
    "df_muleta.rename(columns={'FX':'Fx Muleta','FY':'Fy Muleta','FZ':'Fz Muleta'},inplace=True)\n",
    "df_muleta.plot(x='Time')\n",
    "\n",
    "plt.show()"
   ]
  },
  {
   "cell_type": "code",
   "execution_count": 31,
   "metadata": {},
   "outputs": [
    {
     "data": {
      "text/html": [
       "<div>\n",
       "<style scoped>\n",
       "    .dataframe tbody tr th:only-of-type {\n",
       "        vertical-align: middle;\n",
       "    }\n",
       "\n",
       "    .dataframe tbody tr th {\n",
       "        vertical-align: top;\n",
       "    }\n",
       "\n",
       "    .dataframe thead th {\n",
       "        text-align: right;\n",
       "    }\n",
       "</style>\n",
       "<table border=\"1\" class=\"dataframe\">\n",
       "  <thead>\n",
       "    <tr style=\"text-align: right;\">\n",
       "      <th></th>\n",
       "      <th>Time</th>\n",
       "      <th>FX</th>\n",
       "      <th>FY</th>\n",
       "      <th>FZ</th>\n",
       "      <th>Yaw</th>\n",
       "      <th>Pitch</th>\n",
       "      <th>Roll</th>\n",
       "    </tr>\n",
       "  </thead>\n",
       "  <tbody>\n",
       "    <tr>\n",
       "      <th>0</th>\n",
       "      <td>0.00</td>\n",
       "      <td>-0.272503</td>\n",
       "      <td>0.184817</td>\n",
       "      <td>0.190396</td>\n",
       "      <td>0.317820</td>\n",
       "      <td>-0.256074</td>\n",
       "      <td>0.057165</td>\n",
       "    </tr>\n",
       "    <tr>\n",
       "      <th>1</th>\n",
       "      <td>0.04</td>\n",
       "      <td>-0.272503</td>\n",
       "      <td>0.184817</td>\n",
       "      <td>0.190396</td>\n",
       "      <td>0.318785</td>\n",
       "      <td>-0.256388</td>\n",
       "      <td>0.056485</td>\n",
       "    </tr>\n",
       "    <tr>\n",
       "      <th>2</th>\n",
       "      <td>0.08</td>\n",
       "      <td>-0.333730</td>\n",
       "      <td>0.170113</td>\n",
       "      <td>0.245643</td>\n",
       "      <td>0.322857</td>\n",
       "      <td>-0.256276</td>\n",
       "      <td>0.055223</td>\n",
       "    </tr>\n",
       "    <tr>\n",
       "      <th>3</th>\n",
       "      <td>0.12</td>\n",
       "      <td>-0.333730</td>\n",
       "      <td>0.170113</td>\n",
       "      <td>0.245643</td>\n",
       "      <td>0.324718</td>\n",
       "      <td>-0.256424</td>\n",
       "      <td>0.054836</td>\n",
       "    </tr>\n",
       "    <tr>\n",
       "      <th>4</th>\n",
       "      <td>0.16</td>\n",
       "      <td>-0.333730</td>\n",
       "      <td>0.170113</td>\n",
       "      <td>0.245643</td>\n",
       "      <td>0.325817</td>\n",
       "      <td>-0.256655</td>\n",
       "      <td>0.055182</td>\n",
       "    </tr>\n",
       "  </tbody>\n",
       "</table>\n",
       "</div>"
      ],
      "text/plain": [
       "   Time        FX        FY        FZ       Yaw     Pitch      Roll\n",
       "0  0.00 -0.272503  0.184817  0.190396  0.317820 -0.256074  0.057165\n",
       "1  0.04 -0.272503  0.184817  0.190396  0.318785 -0.256388  0.056485\n",
       "2  0.08 -0.333730  0.170113  0.245643  0.322857 -0.256276  0.055223\n",
       "3  0.12 -0.333730  0.170113  0.245643  0.324718 -0.256424  0.054836\n",
       "4  0.16 -0.333730  0.170113  0.245643  0.325817 -0.256655  0.055182"
      ]
     },
     "execution_count": 31,
     "metadata": {},
     "output_type": "execute_result"
    }
   ],
   "source": [
    "df_muleta.head()"
   ]
  },
  {
   "cell_type": "code",
   "execution_count": 178,
   "metadata": {},
   "outputs": [],
   "source": [
    "df_plataforma = pd.read_csv('C:/Users/thall/Documents/Validacao/teste 5.csv', sep=';',decimal=',',skiprows=2)\n",
    "df_plataforma = df_plataforma.rolling(1000).mean()\n",
    "df_plataforma.dropna(inplace=True)\n",
    "df_plataforma.reset_index(inplace=True,drop=True)\n",
    "df_plataforma.rename(columns={'Channel name':'Time','Fz':'Fz Plataforma','Fx':'Fx Plataforma','Fy':'Fy Plataforma'},inplace=True)\n",
    "#df_plataforma.plot(x='Time')\n",
    "\n",
    "# short = []\n",
    "# num = len(df_muleta)\n",
    "# passo = 800 #int(len(df_plataforma)/num)\n",
    "# for i in range(num):\n",
    "#     short.append((df_plataforma['Fx'][i*passo:(i+1)*passo].mean(),df_plataforma['Fz'][i*passo:(i+1)*passo].mean()))\n",
    "# df_short = pd.DataFrame(data=short,columns=['FX','FZ']).dropna()\n",
    "# df_short.plot()\n",
    "# plt.show()"
   ]
  },
  {
   "cell_type": "code",
   "execution_count": 89,
   "metadata": {},
   "outputs": [
    {
     "data": {
      "text/html": [
       "<div>\n",
       "<style scoped>\n",
       "    .dataframe tbody tr th:only-of-type {\n",
       "        vertical-align: middle;\n",
       "    }\n",
       "\n",
       "    .dataframe tbody tr th {\n",
       "        vertical-align: top;\n",
       "    }\n",
       "\n",
       "    .dataframe thead th {\n",
       "        text-align: right;\n",
       "    }\n",
       "</style>\n",
       "<table border=\"1\" class=\"dataframe\">\n",
       "  <thead>\n",
       "    <tr style=\"text-align: right;\">\n",
       "      <th></th>\n",
       "      <th>Time</th>\n",
       "      <th>Fx Plataforma</th>\n",
       "      <th>Channel name.1</th>\n",
       "      <th>Fy Plataforma</th>\n",
       "      <th>Channel name.2</th>\n",
       "      <th>Fz Plataforma</th>\n",
       "      <th>Channel name.3</th>\n",
       "      <th>Mx</th>\n",
       "      <th>Channel name.4</th>\n",
       "      <th>My</th>\n",
       "      <th>Channel name.5</th>\n",
       "      <th>Mz</th>\n",
       "    </tr>\n",
       "  </thead>\n",
       "  <tbody>\n",
       "    <tr>\n",
       "      <th>0</th>\n",
       "      <td>0.023976</td>\n",
       "      <td>1.801205</td>\n",
       "      <td>0.023976</td>\n",
       "      <td>25.127408</td>\n",
       "      <td>0.023976</td>\n",
       "      <td>8.892199</td>\n",
       "      <td>0.023976</td>\n",
       "      <td>2.211199</td>\n",
       "      <td>0.023976</td>\n",
       "      <td>1.040531</td>\n",
       "      <td>0.023976</td>\n",
       "      <td>0.662570</td>\n",
       "    </tr>\n",
       "    <tr>\n",
       "      <th>1</th>\n",
       "      <td>0.024024</td>\n",
       "      <td>1.792542</td>\n",
       "      <td>0.024024</td>\n",
       "      <td>25.130452</td>\n",
       "      <td>0.024024</td>\n",
       "      <td>8.882112</td>\n",
       "      <td>0.024024</td>\n",
       "      <td>2.208757</td>\n",
       "      <td>0.024024</td>\n",
       "      <td>1.040717</td>\n",
       "      <td>0.024024</td>\n",
       "      <td>0.662617</td>\n",
       "    </tr>\n",
       "    <tr>\n",
       "      <th>2</th>\n",
       "      <td>0.024072</td>\n",
       "      <td>1.781336</td>\n",
       "      <td>0.024072</td>\n",
       "      <td>25.134019</td>\n",
       "      <td>0.024072</td>\n",
       "      <td>8.867079</td>\n",
       "      <td>0.024072</td>\n",
       "      <td>2.205501</td>\n",
       "      <td>0.024072</td>\n",
       "      <td>1.040655</td>\n",
       "      <td>0.024072</td>\n",
       "      <td>0.662601</td>\n",
       "    </tr>\n",
       "    <tr>\n",
       "      <th>3</th>\n",
       "      <td>0.024120</td>\n",
       "      <td>1.768012</td>\n",
       "      <td>0.024120</td>\n",
       "      <td>25.136539</td>\n",
       "      <td>0.024120</td>\n",
       "      <td>8.851256</td>\n",
       "      <td>0.024120</td>\n",
       "      <td>2.201680</td>\n",
       "      <td>0.024120</td>\n",
       "      <td>1.040964</td>\n",
       "      <td>0.024120</td>\n",
       "      <td>0.662711</td>\n",
       "    </tr>\n",
       "    <tr>\n",
       "      <th>4</th>\n",
       "      <td>0.024168</td>\n",
       "      <td>1.752475</td>\n",
       "      <td>0.024168</td>\n",
       "      <td>25.140772</td>\n",
       "      <td>0.024168</td>\n",
       "      <td>8.831872</td>\n",
       "      <td>0.024168</td>\n",
       "      <td>2.197645</td>\n",
       "      <td>0.024168</td>\n",
       "      <td>1.041088</td>\n",
       "      <td>0.024168</td>\n",
       "      <td>0.662711</td>\n",
       "    </tr>\n",
       "  </tbody>\n",
       "</table>\n",
       "</div>"
      ],
      "text/plain": [
       "       Time  Fx Plataforma  Channel name.1  Fy Plataforma  Channel name.2  \\\n",
       "0  0.023976       1.801205        0.023976      25.127408        0.023976   \n",
       "1  0.024024       1.792542        0.024024      25.130452        0.024024   \n",
       "2  0.024072       1.781336        0.024072      25.134019        0.024072   \n",
       "3  0.024120       1.768012        0.024120      25.136539        0.024120   \n",
       "4  0.024168       1.752475        0.024168      25.140772        0.024168   \n",
       "\n",
       "   Fz Plataforma  Channel name.3        Mx  Channel name.4        My  \\\n",
       "0       8.892199        0.023976  2.211199        0.023976  1.040531   \n",
       "1       8.882112        0.024024  2.208757        0.024024  1.040717   \n",
       "2       8.867079        0.024072  2.205501        0.024072  1.040655   \n",
       "3       8.851256        0.024120  2.201680        0.024120  1.040964   \n",
       "4       8.831872        0.024168  2.197645        0.024168  1.041088   \n",
       "\n",
       "   Channel name.5        Mz  \n",
       "0        0.023976  0.662570  \n",
       "1        0.024024  0.662617  \n",
       "2        0.024072  0.662601  \n",
       "3        0.024120  0.662711  \n",
       "4        0.024168  0.662711  "
      ]
     },
     "execution_count": 89,
     "metadata": {},
     "output_type": "execute_result"
    }
   ],
   "source": [
    "df_plataforma.head()"
   ]
  },
  {
   "cell_type": "code",
   "execution_count": 179,
   "metadata": {},
   "outputs": [],
   "source": [
    "merge=pd.merge_asof(df_plataforma,df_muleta, on ='Time', direction='nearest')"
   ]
  },
  {
   "cell_type": "code",
   "execution_count": 180,
   "metadata": {},
   "outputs": [
    {
     "data": {
      "text/plain": [
       "<AxesSubplot: xlabel='Time'>"
      ]
     },
     "execution_count": 180,
     "metadata": {},
     "output_type": "execute_result"
    }
   ],
   "source": [
    "merge.plot(x='Time',y=[\"Fz Muleta\", \"Fz Plataforma\"])"
   ]
  },
  {
   "cell_type": "code",
   "execution_count": 181,
   "metadata": {},
   "outputs": [],
   "source": [
    "merge['Fx Muleta'] = -1*merge['Fx Muleta']"
   ]
  },
  {
   "cell_type": "code",
   "execution_count": 182,
   "metadata": {},
   "outputs": [
    {
     "name": "stdout",
     "output_type": "stream",
     "text": [
      "1.248607792316349\n",
      "-4.102689403675193\n",
      "12.718715039794155\n"
     ]
    }
   ],
   "source": [
    "#Comparação Força Fx\n",
    "noise_platform = merge['Fx Plataforma'][:40000].mean()\n",
    "print(noise_platform)\n",
    "#merge['Fx Plataforma'] = merge['Fx Plataforma'] - noise_platform\n",
    "merge['Erro X'] = merge['Fx Muleta'] - merge['Fx Plataforma']\n",
    "merge.plot(x='Time',y=[\"Fx Muleta\", \"Fx Plataforma\"],title='Comparação entre Força medida pela Muleta e pela Plataforma')\n",
    "\n",
    "print(merge['Erro X'].mean())\n",
    "print(merge['Erro X'].std())"
   ]
  },
  {
   "cell_type": "code",
   "execution_count": 184,
   "metadata": {},
   "outputs": [],
   "source": [
    "merge['Fy Muleta'] = -1*merge['Fy Muleta']"
   ]
  },
  {
   "cell_type": "code",
   "execution_count": 185,
   "metadata": {},
   "outputs": [
    {
     "name": "stdout",
     "output_type": "stream",
     "text": [
      "1.1027623258996755e-15\n",
      "-2.7621845917229058\n",
      "8.583644884015435\n"
     ]
    }
   ],
   "source": [
    "#Comparação Força Fy\n",
    "noise_platform = merge['Fy Plataforma'][:40000].mean()\n",
    "print(noise_platform)\n",
    "merge['Fy Plataforma'] = merge['Fy Plataforma'] - noise_platform\n",
    "merge['Erro Y'] = merge['Fy Muleta'] - merge['Fy Plataforma']\n",
    "merge.plot(x='Time',y=[\"Fy Muleta\", \"Fy Plataforma\"],title='Comparação entre Força medida pela Muleta e pela Plataforma')\n",
    "\n",
    "print(merge['Erro Y'].mean())\n",
    "print(merge['Erro Y'].std())"
   ]
  },
  {
   "cell_type": "code",
   "execution_count": 186,
   "metadata": {},
   "outputs": [
    {
     "name": "stdout",
     "output_type": "stream",
     "text": [
      "10.949031821004992\n",
      "-19.694653353996447\n",
      "20.08002375662873\n"
     ]
    }
   ],
   "source": [
    "#Comparação Força Fz\n",
    "noise_platform = merge['Fz Plataforma'][:40000].mean()\n",
    "print(noise_platform)\n",
    "#merge['Fz Plataforma'] = merge['Fz Plataforma'] - noise_platform\n",
    "merge['Erro Z'] = merge['Fz Muleta'] - merge['Fz Plataforma']\n",
    "merge.plot(x='Time',y=[\"Fz Muleta\", \"Fz Plataforma\",\"Erro Z\"],title='Comparação entre Força de compressão medida pela Muleta e pela Plataforma')\n",
    "\n",
    "print(merge['Erro Z'].mean())\n",
    "print(merge['Erro Z'].std())"
   ]
  }
 ],
 "metadata": {
  "kernelspec": {
   "display_name": "Python 3.10.2 64-bit",
   "language": "python",
   "name": "python3"
  },
  "language_info": {
   "codemirror_mode": {
    "name": "ipython",
    "version": 3
   },
   "file_extension": ".py",
   "mimetype": "text/x-python",
   "name": "python",
   "nbconvert_exporter": "python",
   "pygments_lexer": "ipython3",
   "version": "3.10.8"
  },
  "orig_nbformat": 4,
  "vscode": {
   "interpreter": {
    "hash": "18ec32658ef92bbbbefc98c3c8471b646fe2ec18f116030ca69b0fc2fc383acb"
   }
  }
 },
 "nbformat": 4,
 "nbformat_minor": 2
}
